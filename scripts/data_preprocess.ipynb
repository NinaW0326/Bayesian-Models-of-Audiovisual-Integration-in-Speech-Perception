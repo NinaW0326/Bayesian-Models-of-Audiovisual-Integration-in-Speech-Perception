{
 "cells": [
  {
   "cell_type": "markdown",
   "metadata": {},
   "source": [
    "### Get data from .mat format to dict \n",
    "and save as python-friendly format\n",
    "\n",
    "nina 2020.3.4"
   ]
  },
  {
   "cell_type": "code",
   "execution_count": 1,
   "metadata": {},
   "outputs": [],
   "source": [
    "import scipy.io\n",
    "matfile_path = '../S2_data/data.mat'\n",
    "mat = scipy.io.loadmat(matfile_path)"
   ]
  },
  {
   "cell_type": "code",
   "execution_count": 2,
   "metadata": {},
   "outputs": [],
   "source": [
    "mdata = mat['data']"
   ]
  },
  {
   "cell_type": "code",
   "execution_count": 3,
   "metadata": {},
   "outputs": [
    {
     "data": {
      "text/plain": [
       "('AB',\n",
       " 'AG',\n",
       " 'VB',\n",
       " 'VG',\n",
       " 'AVB',\n",
       " 'AVG',\n",
       " 'AVFus',\n",
       " 'dim_order',\n",
       " 'response_order',\n",
       " 'nsubjects')"
      ]
     },
     "execution_count": 3,
     "metadata": {},
     "output_type": "execute_result"
    }
   ],
   "source": [
    "mdata.dtype.names\n",
    "# mdata['AB']"
   ]
  },
  {
   "cell_type": "code",
   "execution_count": 4,
   "metadata": {},
   "outputs": [
    {
     "name": "stdout",
     "output_type": "stream",
     "text": [
      "(1, 1)\n",
      "(16, 3, 3)\n"
     ]
    }
   ],
   "source": [
    "print(mdata['AB'][0,0].shape)\n",
    "print(mdata['AB'][0,0]['counts'][0,0].shape)"
   ]
  },
  {
   "cell_type": "code",
   "execution_count": 15,
   "metadata": {},
   "outputs": [
    {
     "name": "stdout",
     "output_type": "stream",
     "text": [
      "processing AB\n",
      "processing counts\n",
      "processing props\n",
      "processing snr\n",
      "processing AG\n",
      "processing counts\n",
      "processing props\n",
      "processing snr\n",
      "processing VB\n",
      "processing counts\n",
      "processing props\n",
      "processing snr\n",
      "processing VG\n",
      "processing counts\n",
      "processing props\n",
      "processing snr\n",
      "processing AVB\n",
      "processing synch\n",
      "processing asynch\n",
      "processing AVG\n",
      "processing synch\n",
      "processing asynch\n",
      "processing AVFus\n",
      "processing synch\n",
      "processing asynch\n",
      "processing dim_order\n",
      "processing response_order\n",
      "processing nsubjects\n",
      "pre-processing done\n"
     ]
    }
   ],
   "source": [
    "ndata = {n: mdata[n][0,0] for n in mdata.dtype.names}\n",
    "dict_data = {}\n",
    "for each in ndata:\n",
    "    print('processing {}'.format(each))\n",
    "    each_d = ndata[each]\n",
    "    if len(each_d.dtype) == 0:\n",
    "        dict_data[each] = each_d\n",
    "        continue\n",
    "    each_d_n = {n: each_d[n][0,0] for n in each_d.dtype.names}\n",
    "    \n",
    "    dict_tmp={}\n",
    "    for each_2 in each_d_n:\n",
    "        print('processing {}'.format(each_2))\n",
    "        each_dd = each_d_n[each_2]\n",
    "        if len(each_dd.dtype) == 0:\n",
    "            dict_tmp[each_2] = each_dd\n",
    "            continue\n",
    "        \n",
    "        each_d_nn = {n: each_dd[n][0,0] for n in each_dd.dtype.names}\n",
    "        dict_tmp[each_2] = each_d_nn\n",
    "    \n",
    "    dict_data[each] = dict_tmp\n",
    "\n",
    "    \n",
    "print('pre-processing done')"
   ]
  },
  {
   "cell_type": "code",
   "execution_count": 16,
   "metadata": {},
   "outputs": [
    {
     "data": {
      "text/plain": [
       "dict_keys(['AB', 'AG', 'VB', 'VG', 'AVB', 'AVG', 'AVFus', 'dim_order', 'response_order', 'nsubjects'])"
      ]
     },
     "execution_count": 16,
     "metadata": {},
     "output_type": "execute_result"
    }
   ],
   "source": [
    "dict_data.keys()"
   ]
  },
  {
   "cell_type": "code",
   "execution_count": 20,
   "metadata": {},
   "outputs": [
    {
     "data": {
      "text/plain": [
       "dict_keys(['synch', 'asynch'])"
      ]
     },
     "execution_count": 20,
     "metadata": {},
     "output_type": "execute_result"
    }
   ],
   "source": [
    "dict_data['AVG'].keys()"
   ]
  },
  {
   "cell_type": "code",
   "execution_count": 21,
   "metadata": {},
   "outputs": [
    {
     "data": {
      "text/plain": [
       "dict_keys(['counts', 'props', 'snr'])"
      ]
     },
     "execution_count": 21,
     "metadata": {},
     "output_type": "execute_result"
    }
   ],
   "source": [
    "dict_data['AVG']['synch'].keys()"
   ]
  },
  {
   "cell_type": "code",
   "execution_count": 30,
   "metadata": {},
   "outputs": [
    {
     "data": {
      "text/plain": [
       "array([[[ 6,  0, 19],\n",
       "        [ 7,  0, 18],\n",
       "        [ 4,  0, 21],\n",
       "        [ 4,  2, 19],\n",
       "        [ 5,  3, 17]],\n",
       "\n",
       "       [[14,  0, 11],\n",
       "        [14,  1, 10],\n",
       "        [13,  0, 12],\n",
       "        [13,  1, 11],\n",
       "        [19,  0,  6]],\n",
       "\n",
       "       [[ 7,  4, 14],\n",
       "        [ 7,  4, 14],\n",
       "        [13,  1, 11],\n",
       "        [ 5, 10, 10],\n",
       "        [ 8, 14,  3]],\n",
       "\n",
       "       [[15,  0, 10],\n",
       "        [13,  0, 12],\n",
       "        [ 8,  0, 17],\n",
       "        [22,  0,  3],\n",
       "        [24,  0,  1]],\n",
       "\n",
       "       [[ 8, 16,  1],\n",
       "        [10,  9,  6],\n",
       "        [ 7,  7, 11],\n",
       "        [ 3, 19,  3],\n",
       "        [ 6, 19,  0]],\n",
       "\n",
       "       [[ 0,  0, 25],\n",
       "        [ 2,  0, 23],\n",
       "        [ 0,  0, 25],\n",
       "        [ 2,  0, 23],\n",
       "        [ 7,  0, 18]],\n",
       "\n",
       "       [[ 8,  1, 16],\n",
       "        [ 6,  0, 19],\n",
       "        [ 4,  0, 21],\n",
       "        [ 9,  3, 13],\n",
       "        [16,  2,  7]],\n",
       "\n",
       "       [[ 1, 10, 14],\n",
       "        [ 2,  4, 19],\n",
       "        [ 3,  3, 19],\n",
       "        [ 5,  7, 13],\n",
       "        [15,  5,  5]],\n",
       "\n",
       "       [[ 8, 15,  2],\n",
       "        [ 3, 18,  4],\n",
       "        [ 4, 16,  5],\n",
       "        [ 1, 21,  3],\n",
       "        [ 7, 18,  0]],\n",
       "\n",
       "       [[ 4, 11, 10],\n",
       "        [ 9,  7,  9],\n",
       "        [ 7,  8, 10],\n",
       "        [ 6, 11,  8],\n",
       "        [ 4, 13,  8]],\n",
       "\n",
       "       [[16,  0,  9],\n",
       "        [12,  0, 13],\n",
       "        [ 4,  0, 21],\n",
       "        [18,  0,  7],\n",
       "        [20,  0,  5]],\n",
       "\n",
       "       [[ 3, 21,  1],\n",
       "        [ 0, 19,  6],\n",
       "        [ 1,  8, 16],\n",
       "        [ 2, 23,  0],\n",
       "        [ 3, 21,  1]],\n",
       "\n",
       "       [[ 3,  1, 21],\n",
       "        [ 4,  1, 20],\n",
       "        [ 5,  1, 19],\n",
       "        [ 7,  0, 18],\n",
       "        [12,  1, 12]],\n",
       "\n",
       "       [[ 3, 13,  9],\n",
       "        [ 2,  8, 15],\n",
       "        [ 2,  4, 19],\n",
       "        [ 1, 22,  2],\n",
       "        [ 6, 18,  1]],\n",
       "\n",
       "       [[ 0, 17,  8],\n",
       "        [ 2,  6, 17],\n",
       "        [ 1,  2, 22],\n",
       "        [ 3, 17,  5],\n",
       "        [ 8, 17,  0]],\n",
       "\n",
       "       [[ 1, 20,  4],\n",
       "        [ 2, 12, 11],\n",
       "        [ 1, 13, 11],\n",
       "        [ 2, 20,  3],\n",
       "        [ 5, 18,  2]]], dtype=uint8)"
      ]
     },
     "execution_count": 30,
     "metadata": {},
     "output_type": "execute_result"
    }
   ],
   "source": [
    "dict_data['AVFus']['asynch']['counts']"
   ]
  },
  {
   "cell_type": "markdown",
   "metadata": {},
   "source": [
    "##### Store the data into python-friendly format"
   ]
  },
  {
   "cell_type": "markdown",
   "metadata": {},
   "source": [
    "1. store the dict data into pickle format."
   ]
  },
  {
   "cell_type": "code",
   "execution_count": 31,
   "metadata": {},
   "outputs": [],
   "source": [
    "import pickle\n",
    "\n",
    "pkl_path = '../S2_data/data.pkl'\n",
    "with open(pkl_path, 'wb') as f:\n",
    "    pickle.dump(dict_data, f, pickle.HIGHEST_PROTOCOL)\n"
   ]
  },
  {
   "cell_type": "markdown",
   "metadata": {},
   "source": [
    "try to read this file again:"
   ]
  },
  {
   "cell_type": "code",
   "execution_count": 32,
   "metadata": {},
   "outputs": [],
   "source": [
    "with open(pkl_path, 'rb') as f:\n",
    "    data_newv = pickle.load(f)"
   ]
  },
  {
   "cell_type": "code",
   "execution_count": 33,
   "metadata": {},
   "outputs": [
    {
     "data": {
      "text/plain": [
       "dict_keys(['AB', 'AG', 'VB', 'VG', 'AVB', 'AVG', 'AVFus', 'dim_order', 'response_order', 'nsubjects'])"
      ]
     },
     "execution_count": 33,
     "metadata": {},
     "output_type": "execute_result"
    }
   ],
   "source": [
    "data_newv.keys()"
   ]
  },
  {
   "cell_type": "markdown",
   "metadata": {},
   "source": [
    "2. store it into npy format"
   ]
  },
  {
   "cell_type": "code",
   "execution_count": 34,
   "metadata": {},
   "outputs": [],
   "source": [
    "import numpy as np\n",
    "npy_filepath  = '../S2_data/data.npy'\n",
    "np.save(npy_filepath, dict_data) "
   ]
  },
  {
   "cell_type": "code",
   "execution_count": 35,
   "metadata": {},
   "outputs": [],
   "source": [
    "# fix the 'Object arrays cannot be loaded when allow_pickle=False' problem\n",
    "# https://stackoverflow.com/questions/55890813/how-to-fix-object-arrays-cannot-be-loaded-when-allow-pickle-false-for-imdb-loa/56062555\n",
    "# save np.load\n",
    "np_load_old = np.load\n",
    "\n",
    "# modify the default parameters of np.load\n",
    "np.load = lambda *a,**k: np_load_old(*a, allow_pickle=True, **k)\n",
    "\n",
    "# # call load_data with allow_pickle implicitly set to true\n",
    "read_dict = np.load(npy_filepath).item()\n",
    "\n",
    "# restore np.load for future normal usage\n",
    "np.load = np_load_old"
   ]
  },
  {
   "cell_type": "code",
   "execution_count": 36,
   "metadata": {},
   "outputs": [
    {
     "data": {
      "text/plain": [
       "dict_keys(['AB', 'AG', 'VB', 'VG', 'AVB', 'AVG', 'AVFus', 'dim_order', 'response_order', 'nsubjects'])"
      ]
     },
     "execution_count": 36,
     "metadata": {},
     "output_type": "execute_result"
    }
   ],
   "source": [
    "read_dict.keys()"
   ]
  },
  {
   "cell_type": "code",
   "execution_count": null,
   "metadata": {},
   "outputs": [],
   "source": []
  },
  {
   "cell_type": "code",
   "execution_count": null,
   "metadata": {},
   "outputs": [],
   "source": []
  }
 ],
 "metadata": {
  "kernelspec": {
   "display_name": "Python 3",
   "language": "python",
   "name": "python3"
  },
  "language_info": {
   "codemirror_mode": {
    "name": "ipython",
    "version": 3
   },
   "file_extension": ".py",
   "mimetype": "text/x-python",
   "name": "python",
   "nbconvert_exporter": "python",
   "pygments_lexer": "ipython3",
   "version": "3.7.3"
  }
 },
 "nbformat": 4,
 "nbformat_minor": 4
}
