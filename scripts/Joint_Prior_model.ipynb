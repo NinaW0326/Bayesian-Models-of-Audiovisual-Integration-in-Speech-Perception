{
 "cells": [
  {
   "cell_type": "markdown",
   "metadata": {},
   "source": [
    "## Joint prior model\n",
    "\n",
    "### Steps to follow\n",
    "1. get the data  \n",
    "2. initial the free parameter  \n",
    "3. comvert the parameter to probability  \n",
    " (a) compute the $\\mu$, $\\sigma$, $w$ for AV according to eq 1-3  \n",
    " (b) function that convert to prob\n",
    "4. negative log likelihood - multinominal   \n",
    "  use <i>minimize</i> function   \n",
    "  error computation per each stimulus, summed"
   ]
  },
  {
   "cell_type": "markdown",
   "metadata": {},
   "source": [
    "<img src=\"./img/steps.png\" width = \"800\"  alt=\"steps\" align=center />"
   ]
  },
  {
   "cell_type": "markdown",
   "metadata": {},
   "source": [
    "#### import library"
   ]
  },
  {
   "cell_type": "code",
   "execution_count": 1,
   "metadata": {},
   "outputs": [],
   "source": [
    "import pickle\n",
    "from scipy.optimize import minimize\n",
    "import numpy as np\n",
    "import scipy.stats\n",
    "from scipy.special import factorial"
   ]
  },
  {
   "cell_type": "markdown",
   "metadata": {},
   "source": [
    "#### Step1: read in data"
   ]
  },
  {
   "cell_type": "code",
   "execution_count": 2,
   "metadata": {},
   "outputs": [],
   "source": [
    "pkl_path = '../S2_data/data.pkl'\n",
    "with open(pkl_path, 'rb') as f:\n",
    "    data = pickle.load(f)"
   ]
  },
  {
   "cell_type": "code",
   "execution_count": 3,
   "metadata": {},
   "outputs": [
    {
     "name": "stdout",
     "output_type": "stream",
     "text": [
      "data keys:dict_keys(['AB', 'AG', 'VB', 'VG', 'AVB', 'AVG', 'AVFus', 'dim_order', 'response_order', 'nsubjects'])\n",
      "shape of data['AG']['props']:\t(16, 3, 3)\n"
     ]
    }
   ],
   "source": [
    "print('data keys:'+str(data.keys()))\n",
    "print('shape of data[\\'AG\\'][\\'props\\']:\\t'+str(data['AG']['props'].shape))"
   ]
  },
  {
   "cell_type": "markdown",
   "metadata": {},
   "source": [
    "#### step2: initial the free parameters"
   ]
  },
  {
   "cell_type": "markdown",
   "metadata": {},
   "source": [
    "We have the following free parameters:  \n",
    "1. $\\sigma_0$, which indicates the variance of the prior, representing the strength of the audio-visual intergration.  \n",
    "2. 4 mean value for all combinations of audio-visual/GA-BA, $\\mu_{vg},\\mu_{vb},\\mu_{ag},\\mu_{ab}$\n",
    "3. 6 kinds of variance for all combinations of audio-visual/high-mid-low, $\\sigma_{vh}$,$\\sigma_{vm}$,$\\sigma_{vl}$,$\\sigma_{ah}$,$\\sigma_{am}$,$\\sigma_{al}$\n",
    "4. the 2 decision boundaries for seprerate BA,DA,GA , $interval_{bd}$ , $interval_{dg}$ "
   ]
  },
  {
   "cell_type": "code",
   "execution_count": 203,
   "metadata": {},
   "outputs": [],
   "source": [
    "# define the free parameters\n",
    "sigma_0 = 0\n",
    "mu_vg, mu_vb, mu_ag, mu_ab = 0,0,0,0\n",
    "sigma_vh, sigma_vm, sigma_vl, sigma_ah, sigma_am, sigma_al = 1,1,1,1,1,1\n",
    "interval_bd,interval_dg = -0.2,0.2\n",
    "\n",
    "init_para = [sigma_0,mu_vg, mu_vb, mu_ag, mu_ab,sigma_vh, sigma_vm, sigma_vl, sigma_ah, sigma_am, sigma_al,interval_bd,interval_dg]"
   ]
  },
  {
   "cell_type": "markdown",
   "metadata": {},
   "source": [
    "#### step3: convert the parameter to probability"
   ]
  },
  {
   "cell_type": "markdown",
   "metadata": {},
   "source": [
    "(a) compute the  𝜇 ,  𝜎 ,  𝑤  for AV according to eq 1-3  \n",
    "(b) function that convert to prob"
   ]
  },
  {
   "cell_type": "markdown",
   "metadata": {},
   "source": [
    "\n",
    "$$\\mu_{AV} = w_A \\mu_A + (1-w_A)\\mu_V \\tag{1}$$\n",
    "$$\\sigma_{AV}^2 = w_A \\sigma_A^2 \\tag{2}$$\n",
    "$$w_A = \\frac{2\\sigma_0^2 + \\sigma_V^2}{2\\sigma_0^2 + \\sigma_V^2+\\sigma_A^2} \\tag{3}$$\n"
   ]
  },
  {
   "cell_type": "code",
   "execution_count": 204,
   "metadata": {},
   "outputs": [],
   "source": [
    "def get_av(mu_a,mu_v,sigma_a,sigma_v,sigma_0 = 0):\n",
    "    '''\n",
    "    compute the mu and sigma for audiovisual perception\n",
    "    '''\n",
    "    w = (2*sigma_0**2+sigma_v**2)/(2*sigma_0**2+sigma_v**2 + sigma_a**2)\n",
    "    mu_av = w*mu_a + (1-w)*mu_v\n",
    "    sigma_av = np.sqrt((sigma_a**2)*w)\n",
    "    return mu_av,sigma_av"
   ]
  },
  {
   "cell_type": "code",
   "execution_count": 175,
   "metadata": {},
   "outputs": [],
   "source": [
    "def guassian2prob(mu,sigma,c):\n",
    "    \"\"\"\n",
    "    input:\n",
    "    - mu: mean of truncated Gaussian,shape [m * 1]\n",
    "    - sigma: shape [m * 1]\n",
    "    - c: the intervals [m * 2] or uniformed ([1 * 2])\n",
    "    it could be same for all stimuli, or could be different for different stimuli\n",
    "\n",
    "    output:\n",
    "    - response_probs: [m * 3] responsed probabilities\n",
    "    \"\"\"\n",
    "    m = len(mu)\n",
    "    response_probs = np.zeros((m,3))\n",
    "    low = -5\n",
    "    high = 5\n",
    "    c = c.reshape(-1,2)\n",
    "#     print(c.shape)\n",
    "    \n",
    "    if len(c) == 1:\n",
    "        c = np.tile(c,(m,1))\n",
    "#     print(c.shape)\n",
    "#     print(c)\n",
    "#     print(c[0,:])\n",
    "    \n",
    "    low_boundary =  scipy.stats.norm.cdf(low,mu,sigma)\n",
    "    up_boundary =  scipy.stats.norm.cdf(high,mu,sigma)\n",
    "    normalization_constant = up_boundary - low_boundary\n",
    "    \n",
    "    resp_bound_low = scipy.stats.norm.cdf(c[:,0],mu,sigma)\n",
    "    resp_bound_high = scipy.stats.norm.cdf(c[:,1],mu,sigma)\n",
    "    \n",
    "    response_probs[:,0] = np.exp(np.log(resp_bound_low - low_boundary)-np.log(normalization_constant))\n",
    "    response_probs[:,1] = np.exp(np.log(resp_bound_high - resp_bound_low)-np.log(normalization_constant))\n",
    "    response_probs[:,2] = np.exp(np.log(up_boundary - resp_bound_high)-np.log(normalization_constant))\n",
    "    \n",
    "    return response_probs"
   ]
  },
  {
   "cell_type": "code",
   "execution_count": 205,
   "metadata": {},
   "outputs": [
    {
     "data": {
      "text/plain": [
       "array([[0.30853743, 0.38292514, 0.30853743],\n",
       "       [0.30853743, 0.38292514, 0.30853743]])"
      ]
     },
     "execution_count": 205,
     "metadata": {},
     "output_type": "execute_result"
    }
   ],
   "source": [
    "# try out\n",
    "guassian2prob(np.array([0,0]),np.array([1,1]),np.array([[-0.5,0.5]]))"
   ]
  },
  {
   "cell_type": "markdown",
   "metadata": {},
   "source": [
    "**Step 4: optimize the parameters via minimizing the neg-log-multinomial likelihood (maximizing likelihood)**   \n",
    "negative log likelihood - multinominal   \n",
    "  use <i>minimize</i> function   \n",
    "  error computation per each stimulus, summed"
   ]
  },
  {
   "cell_type": "markdown",
   "metadata": {},
   "source": [
    "The likelihood function for the multinomial distribution is:  \n",
    "\n",
    "\n",
    "$$L(x;\\theta) = \\frac{N!}{\\prod\\limits_{i} x_i!} \\prod\\limits_{i} \\theta_i^{x_i} \\tag{4}$$\n",
    "\n",
    "The logarithm of equation $(3)$:\n",
    "\n",
    "$$l(x;\\theta) = log(N!) - \\sum\\limits_{i} \\log{x_i!} + \\sum\\limits_{i}x_i\\log(\\theta_i) \\tag{5}$$\n",
    "\n",
    "*Minimize* the negative-log likelihood: \n",
    "\n",
    "$$minimize(-l(x;\\theta)) = minimize(-log(N!) +\\sum\\limits_{i} \\log{x_i!} - \\sum\\limits_{i}x_i\\log(\\theta_i)) \\tag{6}$$\n",
    "\n",
    "ref:   \n",
    "https://www.youtube.com/watch?v=rtH7ia9Y5HM  \n",
    "https://cmci.colorado.edu/classes/INFO-2301/sp17/files/06.pdf\n"
   ]
  },
  {
   "cell_type": "markdown",
   "metadata": {},
   "source": [
    "<font color=coral>\n",
    "    1. $\\lambda$ term?<br>     \n",
    "    2. for each tester?\n",
    "    </font>"
   ]
  },
  {
   "cell_type": "markdown",
   "metadata": {},
   "source": [
    "<font color=red>problems encountered:  </font><br>\n",
    "1. when res_prob is 0, np.log(res_prob) returns -inf, then the multiply would go wrong.\n",
    "2. the result seems not match SNR"
   ]
  },
  {
   "cell_type": "code",
   "execution_count": 193,
   "metadata": {},
   "outputs": [],
   "source": [
    "def log_max_likelihood_each(counts,mu,sigma,c):\n",
    "    '''\n",
    "    compute the maximum log likelihood\n",
    "    \n",
    "    input:\n",
    "    - counts: shape of [m, 3] \n",
    "    - mu, sigma: corresponding mu and sigma,shape [m, 1] [m, 1]\n",
    "    - c: the 2 boundaries, shape of [1,2] \n",
    "    '''\n",
    "    x = np.array(counts)\n",
    "#     print('x.shape:{}'.format(x.shape))\n",
    "#     print(x)\n",
    "    \n",
    "    # get the response prob first\n",
    "    res_prob = guassian2prob(mu,sigma,c)\n",
    "#     print('res_prob.shape:{}'.format(res_prob.shape))\n",
    "#     print(res_prob)\n",
    "    \n",
    "    N = np.sum(x,axis=1)\n",
    "#     print('N:{}'.format(N))\n",
    "    \n",
    "    log_N_fact = np.log(factorial(N))\n",
    "#     print('log_N_fact.shape:{}'.format(log_N_fact.shape))\n",
    "#     print(log_N_fact)\n",
    "    \n",
    "    sum_log_fact = np.sum(np.log(factorial(x)),axis=1)\n",
    "#     print('sum_log_fact.shape:{}'.format(sum_log_fact.shape))\n",
    "#     print(sum_log_fact)\n",
    "\n",
    "    # if res_prob is 0 -> replace it with penalty-constant\n",
    "#     res_prob[np.argwhere(res_prob == 0)] = 1e-100\n",
    "#     res_prob[np.isnan(res_prob)] = 1e-50\n",
    "    log_res_prob = np.log(res_prob)\n",
    "    log_res_prob[np.isinf(log_res_prob)] = -1e6\n",
    "#     if len(np.argwhere(np.isnan(log_res_prob))) != 0:\n",
    "#     print('log_res_prob:{}'.format(log_res_prob))\n",
    "    sum_xi_log = np.sum(np.multiply(x,log_res_prob),axis=1)\n",
    "#     print('sum_xi_log.shape:{}'.format(sum_xi_log.shape))\n",
    "#     print(sum_xi_log)\n",
    "    \n",
    "    \n",
    "    res = log_N_fact - sum_log_fact + sum_xi_log\n",
    "    \n",
    "    return np.sum(res)"
   ]
  },
  {
   "cell_type": "code",
   "execution_count": 194,
   "metadata": {},
   "outputs": [],
   "source": [
    "def get_params_AV(mu_1,mu_2):\n",
    "    '''\n",
    "    compute the array of mu and sigma for multi-sesories\n",
    "    input:\n",
    "    - mu_1 : mu for audio\n",
    "    - mu_2 : mu for visual\n",
    "    return:\n",
    "    the array of mu and sigma of the defined-combinations in experiment\n",
    "    '''\n",
    "    # get the mu_av, sigma_av \n",
    "    \n",
    "    # Vhi_Ahi,Vmid_Ahi,Vlo_Ahi,Vhi_Amid,Vhi_Alo\n",
    "    mu_Vhi_Ahi, sigma_Vhi_Ahi = get_av(mu_1, mu_2, sigma_vh,sigma_ah)\n",
    "    mu_Vmid_Ahi, sigma_Vmid_Ahi = get_av(mu_1, mu_2, sigma_vm,sigma_ah)\n",
    "    mu_Vlo_Ahi, sigma_Vlo_Ahi = get_av(mu_1, mu_2, sigma_vl,sigma_ah)\n",
    "    mu_Vhi_Amid, sigma_Vhi_Amid = get_av(mu_1, mu_2, sigma_vh,sigma_am)\n",
    "    mu_Vhi_Alo, sigma_Vhi_Alo = get_av(mu_1, mu_2, sigma_vh,sigma_al)\n",
    "\n",
    "    mus = np.array([mu_Vhi_Ahi,mu_Vmid_Ahi,mu_Vlo_Ahi,mu_Vhi_Amid,mu_Vhi_Alo])\n",
    "    sigmas = np.array([sigma_Vhi_Ahi,sigma_Vmid_Ahi,sigma_Vlo_Ahi,sigma_Vhi_Amid,sigma_Vhi_Alo])\n",
    "    return mus, sigmas"
   ]
  },
  {
   "cell_type": "code",
   "execution_count": 195,
   "metadata": {},
   "outputs": [
    {
     "name": "stderr",
     "output_type": "stream",
     "text": [
      "c:\\users\\12632\\appdata\\local\\programs\\python\\python37\\lib\\site-packages\\ipykernel_launcher.py:33: RuntimeWarning: invalid value encountered in log\n"
     ]
    }
   ],
   "source": [
    "\n",
    "\n",
    "neg_log = [] # use to record the neg-log-multi-nomial likelihood\n",
    "tester_index = 10 # tester index\n",
    "\n",
    "\n",
    "\n",
    "def neg_log_guassian(x0):\n",
    "    # get the parameter out from x0\n",
    "    sigma_0 = x0[0]\n",
    "    [mu_vg, mu_vb, mu_ag, mu_ab] = x0[1:5]\n",
    "    [sigma_vh, sigma_vm, sigma_vl, sigma_ah, sigma_am, sigma_al] = x0[5:11]\n",
    "    c = x0[11:]\n",
    "    \n",
    "    #data['AB']\n",
    "    res_ab = log_max_likelihood_each(data['AB']['counts'][tester_index,:,:],\n",
    "                                np.array([mu_ab]*3),\n",
    "                                np.array([sigma_ah,sigma_am,sigma_al]),c)\n",
    "    \n",
    "    #data['AG']\n",
    "    res_ag = log_max_likelihood_each(data['AG']['counts'][tester_index,:,:],\n",
    "                                np.array([mu_ag]*3),\n",
    "                                np.array([sigma_ah,sigma_am,sigma_al]),c)\n",
    "    \n",
    "    #data['VB']\n",
    "    res_vb = log_max_likelihood_each(data['VB']['counts'][tester_index,:,:],\n",
    "                                np.array([mu_vb]*3),\n",
    "                                np.array([sigma_vh,sigma_vm,sigma_vl]),c)\n",
    "    \n",
    "    #data['VG']\n",
    "    res_vg = log_max_likelihood_each(data['VG']['counts'][tester_index,:,:],\n",
    "                                np.array([mu_vg]*3),\n",
    "                                np.array([sigma_vh,sigma_vm,sigma_vl]),c)\n",
    "    \n",
    "    \n",
    "    \n",
    "    \n",
    "    #data['AVFus']['synch']\n",
    "    # AVFus -> auditory B , visual G\n",
    "    mus, sigmas = get_params_AV(mu_ab,mu_vg)\n",
    "#     print('AVFus,mus:{}'.format(mus))\n",
    "#     print('AVFus,sigmas:{}'.format(sigmas))\n",
    "    res_avfus = log_max_likelihood_each(data['AVFus']['synch']['counts'][tester_index,:,:],\n",
    "                                 mus,sigmas,c)\n",
    "    \n",
    "\n",
    "    #data['AVG']['synch']\n",
    "    mus, sigmas = get_params_AV(mu_ag,mu_vg)\n",
    "    res_avg = log_max_likelihood_each(data['AVG']['synch']['counts'][tester_index,:,:],\n",
    "                                 mus,sigmas,c)\n",
    "    \n",
    "    #data['AVB']['synch']\n",
    "    mus, sigmas = get_params_AV(mu_ab,mu_vb)\n",
    "    res_avb = log_max_likelihood_each(data['AVB']['synch']['counts'][tester_index,:,:],\n",
    "                                 mus,sigmas,c)\n",
    "    \n",
    "    \n",
    "    res = res_ab + res_ag + res_vb + res_vg + res_avfus + res_avg + res_avb\n",
    "    neg_log.append(-res)\n",
    "    return -(res)\n",
    "    \n",
    "\n",
    "x0 = np.array(init_para)\n",
    "res = minimize(neg_log_guassian, x0,method='Nelder-Mead', tol=1e-6)\n",
    "\n",
    "# init_para = [sigma_0,mu_vg, mu_vb, mu_ag, mu_ab,sigma_vh, sigma_vm, sigma_vl, sigma_ah, sigma_am, sigma_al,interval_bd,interval_dg]\n"
   ]
  },
  {
   "cell_type": "markdown",
   "metadata": {},
   "source": [
    "The optimized parameters:"
   ]
  },
  {
   "cell_type": "code",
   "execution_count": 206,
   "metadata": {},
   "outputs": [
    {
     "name": "stdout",
     "output_type": "stream",
     "text": [
      "sigma_0:0.0002557161983943036\n",
      "mu_vg:0.001781536990039342,mu_vb:0.010154435483631473,mu_ag:-0.017526772276325167, mu_ab:-0.007218806815071841\n",
      "sigma_vh:3.3952647840596377, sigma_vm:4.267945362455463, sigma_vl:0.41695452792626564, sigma_ah:0.23897408889115337, sigma_am:0.3721583899334301, sigma_al:0.81711802498426\n",
      "interval_bd:0.0541874098965414,interval_dg:0.05437777216897064\n"
     ]
    }
   ],
   "source": [
    "[sigma_0,mu_vg, mu_vb, mu_ag, mu_ab,sigma_vh, sigma_vm, sigma_vl, sigma_ah, sigma_am, sigma_al,interval_bd,interval_dg] = res.x\n",
    "print('sigma_0:{}'.format(sigma_0))\n",
    "print('mu_vg:{},mu_vb:{},mu_ag:{}, mu_ab:{}'.format(mu_vg, mu_vb, mu_ag, mu_ab))\n",
    "print('sigma_vh:{}, sigma_vm:{}, sigma_vl:{}, sigma_ah:{}, sigma_am:{}, sigma_al:{}'.format(sigma_vh, sigma_vm, sigma_vl, sigma_ah, sigma_am, sigma_al))\n",
    "print('interval_bd:{},interval_dg:{}'.format(interval_bd,interval_dg))"
   ]
  },
  {
   "cell_type": "markdown",
   "metadata": {},
   "source": [
    "The trend of neg-log-likelihood with iterations:"
   ]
  },
  {
   "cell_type": "code",
   "execution_count": 202,
   "metadata": {},
   "outputs": [
    {
     "data": {
      "image/png": "[encoded data removed]",
      "text/plain": [
       "<Figure size 576x360 with 1 Axes>"
      ]
     },
     "metadata": {
      "needs_background": "light"
     },
     "output_type": "display_data"
    }
   ],
   "source": [
    "# plot the trend of negative log likelihood\n",
    "import matplotlib.pyplot as plt\n",
    "import numpy as np\n",
    "x = np.arange(1,len(neg_log)+1)\n",
    "plt.figure(figsize=(8,5))\n",
    "plt.plot(x,neg_log,color = 'olive')\n",
    "plt.hlines(res.fun,xmin = 0,xmax = len(neg_log)+1,linestyles='dashed',color= 'k',linewidth=1.5,label='minimum negative log likelihood\\nv')\n",
    "plt.text(380, res.fun+30, '{:.2f}'.format(res.fun), fontsize=10)\n",
    "plt.xlabel('iteration times')\n",
    "plt.ylabel('negative log likelihood')\n",
    "plt.title('Negative Log Likelihood with Iteration Times')\n",
    "plt.legend()\n",
    "plt.show()"
   ]
  },
  {
   "cell_type": "code",
   "execution_count": 27,
   "metadata": {},
   "outputs": [
    {
     "name": "stdout",
     "output_type": "stream",
     "text": [
      "[[array(['Vhi_Ahi'], dtype='<U7') array(['Vmid_Ahi'], dtype='<U8')\n",
      "  array(['Vlo_Ahi'], dtype='<U7') array(['Vhi_Amid'], dtype='<U8')\n",
      "  array(['Vhi_Alo'], dtype='<U7')]]\n"
     ]
    }
   ],
   "source": [
    "print(data['AVFus']['synch']['snr'])\n"
   ]
  },
  {
   "cell_type": "code",
   "execution_count": null,
   "metadata": {},
   "outputs": [],
   "source": []
  }
 ],
 "metadata": {
  "kernelspec": {
   "display_name": "Python 3",
   "language": "python",
   "name": "python3"
  },
  "language_info": {
   "codemirror_mode": {
    "name": "ipython",
    "version": 3
   },
   "file_extension": ".py",
   "mimetype": "text/x-python",
   "name": "python",
   "nbconvert_exporter": "python",
   "pygments_lexer": "ipython3",
   "version": "3.7.3"
  }
 },
 "nbformat": 4,
 "nbformat_minor": 4
}
