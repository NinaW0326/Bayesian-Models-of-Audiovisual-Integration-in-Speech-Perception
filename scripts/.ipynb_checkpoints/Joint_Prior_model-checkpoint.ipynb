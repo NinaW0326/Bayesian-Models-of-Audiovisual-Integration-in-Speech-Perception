{
 "cells": [
  {
   "cell_type": "markdown",
   "metadata": {},
   "source": [
    "## Joint prior model\n",
    "\n",
    "### Steps to follow\n",
    "1. get the data  \n",
    "2. initial the free parameter  \n",
    "3. comvert the parameter to probability  \n",
    " (a) compute the $\\mu$, $\\sigma$, $w$ for AV according to eq 1-3  \n",
    " (b) function that convert to prob\n",
    "4. negative log likelihood - multinominal   \n",
    "  use <i>minimize</i> function   \n",
    "  error computation per each stimulus, summed"
   ]
  },
  {
   "cell_type": "markdown",
   "metadata": {},
   "source": [
    "<img src=\"./img/steps.png\" width = \"800\"  alt=\"steps\" align=center />"
   ]
  },
  {
   "cell_type": "markdown",
   "metadata": {},
   "source": [
    "#### import library"
   ]
  },
  {
   "cell_type": "code",
   "execution_count": 64,
   "metadata": {},
   "outputs": [],
   "source": [
    "import pickle\n",
    "from scipy.optimize import minimize\n",
    "import numpy as np\n",
    "import scipy.stats\n",
    "from scipy.special import factorial\n",
    "import matplotlib.pyplot as plt\n",
    "from scipy.stats import norm\n",
    "from tqdm import tqdm"
   ]
  },
  {
   "cell_type": "markdown",
   "metadata": {},
   "source": [
    "#### Step1: read in data"
   ]
  },
  {
   "cell_type": "code",
   "execution_count": 32,
   "metadata": {},
   "outputs": [],
   "source": [
    "pkl_path = '../S2_data/data.pkl'\n",
    "with open(pkl_path, 'rb') as f:\n",
    "    data = pickle.load(f)"
   ]
  },
  {
   "cell_type": "code",
   "execution_count": 33,
   "metadata": {},
   "outputs": [
    {
     "name": "stdout",
     "output_type": "stream",
     "text": [
      "data keys:dict_keys(['AB', 'AG', 'VB', 'VG', 'AVB', 'AVG', 'AVFus', 'dim_order', 'response_order', 'nsubjects'])\n",
      "shape of data['AG']['props']:\t(16, 3, 3)\n"
     ]
    }
   ],
   "source": [
    "print('data keys:'+str(data.keys()))\n",
    "print('shape of data[\\'AG\\'][\\'props\\']:\\t'+str(data['AG']['props'].shape))"
   ]
  },
  {
   "cell_type": "code",
   "execution_count": 34,
   "metadata": {},
   "outputs": [
    {
     "data": {
      "text/plain": [
       "array([[ 2,  0, 23],\n",
       "       [ 7,  0, 18],\n",
       "       [ 4,  0, 21]], dtype=uint8)"
      ]
     },
     "execution_count": 34,
     "metadata": {},
     "output_type": "execute_result"
    }
   ],
   "source": [
    "data['AB']['counts'][0,:,:]"
   ]
  },
  {
   "cell_type": "markdown",
   "metadata": {},
   "source": [
    "#### step2: initial the free parameters"
   ]
  },
  {
   "cell_type": "markdown",
   "metadata": {},
   "source": [
    "We have the following free parameters:  \n",
    "1. $\\sigma_0$, which indicates the variance of the prior, representing the strength of the audio-visual intergration.  \n",
    "2. 4 mean value for all combinations of audio-visual/GA-BA, $\\mu_{vg},\\mu_{vb},\\mu_{ag},\\mu_{ab}$\n",
    "3. 6 kinds of variance for all combinations of audio-visual/high-mid-low, $\\sigma_{vh}$,$\\sigma_{vm}$,$\\sigma_{vl}$,$\\sigma_{ah}$,$\\sigma_{am}$,$\\sigma_{al}$\n",
    "4. the 2 decision boundaries for seprerate BA,DA,GA , $interval_{bd}$ , $interval_{dg}$ "
   ]
  },
  {
   "cell_type": "code",
   "execution_count": 5,
   "metadata": {},
   "outputs": [],
   "source": [
    "# define the free parameters\n",
    "sigma_0 = 0\n",
    "mu_vg, mu_vb, mu_ag, mu_ab = -3,3,-3,3\n",
    "sigma_vh, sigma_vm, sigma_vl, sigma_ah, sigma_am, sigma_al = 1,1,1,1,1,1\n",
    "interval_gd,interval_db = -1,1\n",
    "\n",
    "init_para = [sigma_0,mu_vg, mu_vb, mu_ag, mu_ab,sigma_vh, sigma_vm, sigma_vl, sigma_ah, sigma_am, sigma_al,interval_gd,interval_db]"
   ]
  },
  {
   "cell_type": "markdown",
   "metadata": {},
   "source": [
    "#### step3: convert the parameter to probability"
   ]
  },
  {
   "cell_type": "markdown",
   "metadata": {},
   "source": [
    "(a) compute the  𝜇 ,  𝜎 ,  𝑤  for AV according to eq 1-3  \n",
    "(b) function that convert to prob"
   ]
  },
  {
   "cell_type": "markdown",
   "metadata": {},
   "source": [
    "\n",
    "$$\\mu_{AV} = w_A \\mu_A + (1-w_A)\\mu_V \\tag{1}$$\n",
    "$$\\sigma_{AV}^2 = w_A \\sigma_A^2 \\tag{2}$$\n",
    "$$w_A = \\frac{2\\sigma_0^2 + \\sigma_V^2}{2\\sigma_0^2 + \\sigma_V^2+\\sigma_A^2} \\tag{3}$$\n"
   ]
  },
  {
   "cell_type": "code",
   "execution_count": 6,
   "metadata": {},
   "outputs": [],
   "source": [
    "def get_av(mu_a,mu_v,sigma_a,sigma_v,sigma_0 = 0):\n",
    "    '''\n",
    "    compute the mu and sigma for audiovisual perception\n",
    "    '''\n",
    "    w = (2*sigma_0**2+sigma_v**2)/(2*sigma_0**2+sigma_v**2 + sigma_a**2)\n",
    "    mu_av = w*mu_a + (1-w)*mu_v\n",
    "    sigma_av = np.sqrt((sigma_a**2)*w)\n",
    "    return mu_av,sigma_av"
   ]
  },
  {
   "cell_type": "code",
   "execution_count": 7,
   "metadata": {},
   "outputs": [],
   "source": [
    "def guassian2prob(mu,sigma,c):\n",
    "    \"\"\"\n",
    "    input:\n",
    "    - mu: mean of truncated Gaussian,shape [m * 1]\n",
    "    - sigma: shape [m * 1]\n",
    "    - c: the intervals [m * 2] or uniformed ([1 * 2])\n",
    "    it could be same for all stimuli, or could be different for different stimuli\n",
    "\n",
    "    output:\n",
    "    - response_probs: [m * 3] responsed probabilities\n",
    "    \"\"\"\n",
    "    m = len(mu)\n",
    "    response_probs = np.zeros((m,3))\n",
    "    low = -5\n",
    "    high = 5\n",
    "    c = c.reshape(-1,2)\n",
    "#     print(c.shape)\n",
    "    \n",
    "    if len(c) == 1:\n",
    "        c = np.tile(c,(m,1))\n",
    "#     print(c.shape)\n",
    "#     print(c)\n",
    "#     print(c[0,:])\n",
    "    \n",
    "    low_boundary =  scipy.stats.norm.cdf(low,mu,sigma)\n",
    "    up_boundary =  scipy.stats.norm.cdf(high,mu,sigma)\n",
    "    normalization_constant = up_boundary - low_boundary\n",
    "    \n",
    "    resp_bound_low = scipy.stats.norm.cdf(c[:,0],mu,sigma)\n",
    "    resp_bound_high = scipy.stats.norm.cdf(c[:,1],mu,sigma)\n",
    "    \n",
    "    response_probs[:,0] = np.exp(np.log(resp_bound_low - low_boundary)-np.log(normalization_constant))\n",
    "    response_probs[:,1] = np.exp(np.log(resp_bound_high - resp_bound_low)-np.log(normalization_constant))\n",
    "    response_probs[:,2] = np.exp(np.log(up_boundary - resp_bound_high)-np.log(normalization_constant))\n",
    "    \n",
    "    return response_probs"
   ]
  },
  {
   "cell_type": "code",
   "execution_count": 8,
   "metadata": {},
   "outputs": [
    {
     "data": {
      "text/plain": [
       "array([[0.30853743, 0.38292514, 0.30853743],\n",
       "       [0.30853743, 0.38292514, 0.30853743]])"
      ]
     },
     "execution_count": 8,
     "metadata": {},
     "output_type": "execute_result"
    }
   ],
   "source": [
    "# try out\n",
    "guassian2prob(np.array([0,0]),np.array([1,1]),np.array([[-0.5,0.5]]))"
   ]
  },
  {
   "cell_type": "markdown",
   "metadata": {},
   "source": [
    "#### Step 4: optimize the parameters via minimizing the neg-log-multinomial likelihood (maximizing likelihood)\n",
    "negative log likelihood - multinominal   \n",
    "  use <i>minimize</i> function   \n",
    "  error computation per each stimulus, summed"
   ]
  },
  {
   "cell_type": "markdown",
   "metadata": {},
   "source": [
    "The likelihood function for the multinomial distribution is:  \n",
    "\n",
    "\n",
    "$$L(x;\\theta) = \\frac{N!}{\\prod\\limits_{i} x_i!} \\prod\\limits_{i} \\theta_i^{x_i} \\tag{4}$$\n",
    "\n",
    "The logarithm of equation $(3)$:\n",
    "\n",
    "$$l(x;\\theta) = log(N!) - \\sum\\limits_{i} \\log{x_i!} + \\sum\\limits_{i}x_i\\log(\\theta_i) \\tag{5}$$\n",
    "\n",
    "*Minimize* the negative-log likelihood: \n",
    "\n",
    "$$minimize(-l(x;\\theta)) = minimize(-log(N!) +\\sum\\limits_{i} \\log{x_i!} - \\sum\\limits_{i}x_i\\log(\\theta_i)) \\tag{6}$$\n",
    "\n",
    "ref:   \n",
    "https://www.youtube.com/watch?v=rtH7ia9Y5HM  \n",
    "https://cmci.colorado.edu/classes/INFO-2301/sp17/files/06.pdf\n"
   ]
  },
  {
   "cell_type": "markdown",
   "metadata": {},
   "source": [
    "<font color=coral>\n",
    "    1. $\\lambda$ term?<br>     \n",
    "    2. for each tester?\n",
    "    </font>"
   ]
  },
  {
   "cell_type": "markdown",
   "metadata": {},
   "source": [
    "<font color=red>problems encountered:  </font><br>\n",
    "1. when res_prob is 0, np.log(res_prob) returns -inf, then the multiply would go wrong.\n",
    "2. the result seems not match SNR"
   ]
  },
  {
   "cell_type": "code",
   "execution_count": 9,
   "metadata": {},
   "outputs": [],
   "source": [
    "def log_max_likelihood_each(counts,mu,sigma,c):\n",
    "    '''\n",
    "    compute the maximum log likelihood\n",
    "    \n",
    "    input:\n",
    "    - counts: shape of [m, 3] \n",
    "    - mu, sigma: corresponding mu and sigma,shape [m, 1] [m, 1]\n",
    "    - c: the 2 boundaries, shape of [1,2] \n",
    "    '''\n",
    "    x = np.array(counts)\n",
    "#     print('x.shape:{}'.format(x.shape))\n",
    "#     print(x)\n",
    "    \n",
    "    # get the response prob first\n",
    "    res_prob = guassian2prob(mu,sigma,c)\n",
    "#     print('res_prob.shape:{}'.format(res_prob.shape))\n",
    "#     print(res_prob)\n",
    "    \n",
    "    N = np.sum(x,axis=1)\n",
    "#     print('N:{}'.format(N))\n",
    "    \n",
    "    log_N_fact = np.log(factorial(N))\n",
    "#     print('log_N_fact.shape:{}'.format(log_N_fact.shape))\n",
    "#     print(log_N_fact)\n",
    "    \n",
    "    sum_log_fact = np.sum(np.log(factorial(x)),axis=1)\n",
    "#     print('sum_log_fact.shape:{}'.format(sum_log_fact.shape))\n",
    "#     print(sum_log_fact)\n",
    "\n",
    "    # if res_prob is 0 -> replace it with penalty-constant\n",
    "#     res_prob[np.argwhere(res_prob == 0)] = 1e-100\n",
    "#     res_prob[np.isnan(res_prob)] = 1e-50\n",
    "    log_res_prob = np.log(res_prob)\n",
    "    log_res_prob[np.isinf(log_res_prob)] = -1e6\n",
    "#     if len(np.argwhere(np.isnan(log_res_prob))) != 0:\n",
    "#     print('log_res_prob:{}'.format(log_res_prob))\n",
    "    sum_xi_log = np.sum(np.multiply(x,log_res_prob),axis=1)\n",
    "#     print('sum_xi_log.shape:{}'.format(sum_xi_log.shape))\n",
    "#     print(sum_xi_log)\n",
    "    \n",
    "    \n",
    "    res = log_N_fact - sum_log_fact + sum_xi_log\n",
    "    \n",
    "    return np.sum(res)"
   ]
  },
  {
   "cell_type": "code",
   "execution_count": 10,
   "metadata": {},
   "outputs": [],
   "source": [
    "def get_params_AV(mu_1,mu_2,sigma_vh,sigma_vm,sigma_vl,sigma_ah,sigma_am,sigma_al):  #,sigma_vh,sigma_vm,sigma_vl,sigma_ah,sigma_am,sigma_al\n",
    "    '''\n",
    "    compute the array of mu and sigma for multi-sesories\n",
    "    input:\n",
    "    - mu_1 : mu for audio\n",
    "    - mu_2 : mu for visual\n",
    "    return:\n",
    "    the array of mu and sigma of the defined-combinations in experiment\n",
    "    '''\n",
    "    # get the mu_av, sigma_av \n",
    "    \n",
    "    # Vhi_Ahi,Vmid_Ahi,Vlo_Ahi,Vhi_Amid,Vhi_Alo\n",
    "    mu_Vhi_Ahi, sigma_Vhi_Ahi = get_av(mu_1, mu_2, sigma_vh,sigma_ah)\n",
    "    mu_Vmid_Ahi, sigma_Vmid_Ahi = get_av(mu_1, mu_2, sigma_vm,sigma_ah)\n",
    "    mu_Vlo_Ahi, sigma_Vlo_Ahi = get_av(mu_1, mu_2, sigma_vl,sigma_ah)\n",
    "    mu_Vhi_Amid, sigma_Vhi_Amid = get_av(mu_1, mu_2, sigma_vh,sigma_am)\n",
    "    mu_Vhi_Alo, sigma_Vhi_Alo = get_av(mu_1, mu_2, sigma_vh,sigma_al)\n",
    "\n",
    "    mus = np.array([mu_Vhi_Ahi,mu_Vmid_Ahi,mu_Vlo_Ahi,mu_Vhi_Amid,mu_Vhi_Alo])\n",
    "    sigmas = np.array([sigma_Vhi_Ahi,sigma_Vmid_Ahi,sigma_Vlo_Ahi,sigma_Vhi_Amid,sigma_Vhi_Alo])\n",
    "    return mus, sigmas"
   ]
  },
  {
   "cell_type": "code",
   "execution_count": 12,
   "metadata": {},
   "outputs": [],
   "source": [
    "\n",
    "\n",
    "neg_log = [] # use to record the neg-log-multi-nomial likelihood\n",
    "\n",
    "\n",
    "\n",
    "\n",
    "def neg_log_guassian(x0,tester_index):\n",
    "    # get the parameter out from x0\n",
    "    sigma_0 = x0[0]\n",
    "    [mu_vg, mu_vb, mu_ag, mu_ab] = x0[1:5]\n",
    "    [sigma_vh, sigma_vm, sigma_vl, sigma_ah, sigma_am, sigma_al] = x0[5:11]\n",
    "    c = x0[11:]\n",
    "    \n",
    "    #data['AB']\n",
    "    res_ab = log_max_likelihood_each(data['AB']['counts'][tester_index,:,:],\n",
    "                                np.array([mu_ab]*3),\n",
    "                                np.array([sigma_ah,sigma_am,sigma_al]),c)\n",
    "    \n",
    "    #data['AG']\n",
    "    res_ag = log_max_likelihood_each(data['AG']['counts'][tester_index,:,:],\n",
    "                                np.array([mu_ag]*3),\n",
    "                                np.array([sigma_ah,sigma_am,sigma_al]),c)\n",
    "    \n",
    "    #data['VB']\n",
    "    res_vb = log_max_likelihood_each(data['VB']['counts'][tester_index,:,:],\n",
    "                                np.array([mu_vb]*3),\n",
    "                                np.array([sigma_vh,sigma_vm,sigma_vl]),c)\n",
    "    \n",
    "    #data['VG']\n",
    "    res_vg = log_max_likelihood_each(data['VG']['counts'][tester_index,:,:],\n",
    "                                np.array([mu_vg]*3),\n",
    "                                np.array([sigma_vh,sigma_vm,sigma_vl]),c)\n",
    "    \n",
    "    \n",
    "    \n",
    "    \n",
    "    #data['AVFus']['synch']\n",
    "    # AVFus -> auditory B , visual G\n",
    "    mus, sigmas = get_params_AV(mu_ab,mu_vg,sigma_vh,sigma_vm,sigma_vl,sigma_ah,sigma_am,sigma_al)\n",
    "#     print('AVFus,mus:{}'.format(mus))\n",
    "#     print('AVFus,sigmas:{}'.format(sigmas))\n",
    "    res_avfus = log_max_likelihood_each(data['AVFus']['synch']['counts'][tester_index,:,:],\n",
    "                                 mus,sigmas,c)\n",
    "    \n",
    "\n",
    "    #data['AVG']['synch']\n",
    "    mus, sigmas = get_params_AV(mu_ag,mu_vg,sigma_vh,sigma_vm,sigma_vl,sigma_ah,sigma_am,sigma_al)\n",
    "    res_avg = log_max_likelihood_each(data['AVG']['synch']['counts'][tester_index,:,:],\n",
    "                                 mus,sigmas,c)\n",
    "    \n",
    "    #data['AVB']['synch']\n",
    "    mus, sigmas = get_params_AV(mu_ab,mu_vb,sigma_vh,sigma_vm,sigma_vl,sigma_ah,sigma_am,sigma_al)\n",
    "    res_avb = log_max_likelihood_each(data['AVB']['synch']['counts'][tester_index,:,:],\n",
    "                                 mus,sigmas,c)\n",
    "    \n",
    "    \n",
    "    res = res_ab + res_ag + res_vb + res_vg + res_avfus + res_avg + res_avb\n",
    "    neg_log.append(-res)\n",
    "    return -(res)\n",
    "    \n",
    "    \n",
    "# def minimize_with_params()\n",
    "tester_index = 11\n",
    "x0 = np.array(init_para)\n",
    "res = minimize(neg_log_guassian, x0,args=(tester_index),method='Nelder-Mead', tol=1e-6)\n",
    "\n",
    "# init_para = [sigma_0,mu_vg, mu_vb, mu_ag, mu_ab,sigma_vh, sigma_vm, sigma_vl, sigma_ah, sigma_am, sigma_al,interval_bd,interval_dg]\n"
   ]
  },
  {
   "cell_type": "markdown",
   "metadata": {},
   "source": [
    "The optimized parameters:"
   ]
  },
  {
   "cell_type": "code",
   "execution_count": 13,
   "metadata": {},
   "outputs": [
    {
     "name": "stdout",
     "output_type": "stream",
     "text": [
      "sigma_0:-0.057356744980039426\n",
      "mu_vg:-0.04489388388495899,mu_vb:4.7008043336509555,mu_ag:-0.5696682910816169, mu_ab:2.6148998329025837\n",
      "sigma_vh:1.5133554462788323, sigma_vm:1.696215882975392, sigma_vl:2.371823107953528, sigma_ah:1.665568642811217, sigma_am:1.2257962576138266, sigma_al:1.3718954138274668\n",
      "interval_gd:0.07484374695455637,interval_db:2.27973568515828\n"
     ]
    }
   ],
   "source": [
    "[sigma_0,mu_vg, mu_vb, mu_ag, mu_ab,sigma_vh, sigma_vm, sigma_vl, sigma_ah, sigma_am, sigma_al,interval_gd,interval_db] = res.x\n",
    "print('sigma_0:{}'.format(sigma_0))\n",
    "print('mu_vg:{},mu_vb:{},mu_ag:{}, mu_ab:{}'.format(mu_vg, mu_vb, mu_ag, mu_ab))\n",
    "print('sigma_vh:{}, sigma_vm:{}, sigma_vl:{}, sigma_ah:{}, sigma_am:{}, sigma_al:{}'.format(sigma_vh, sigma_vm, sigma_vl, sigma_ah, sigma_am, sigma_al))\n",
    "print('interval_gd:{},interval_db:{}'.format(interval_gd,interval_db))"
   ]
  },
  {
   "cell_type": "markdown",
   "metadata": {},
   "source": [
    "The trend of neg-log-likelihood with iterations:"
   ]
  },
  {
   "cell_type": "code",
   "execution_count": 14,
   "metadata": {},
   "outputs": [
    {
     "data": {
      "image/png": "[encoded data removed]",
      "text/plain": [
       "<Figure size 576x360 with 1 Axes>"
      ]
     },
     "metadata": {
      "needs_background": "light"
     },
     "output_type": "display_data"
    }
   ],
   "source": [
    "# plot the trend of negative log likelihood\n",
    "\n",
    "x = np.arange(1,len(neg_log)+1)\n",
    "plt.figure(figsize=(8,5))\n",
    "plt.plot(x,neg_log,color = 'olive')\n",
    "plt.hlines(res.fun,xmin = 0,xmax = len(neg_log)+1,linestyles='dashed',color= 'k',linewidth=1.5,label='minimum negative log likelihood\\nv')\n",
    "plt.text(380, res.fun+30, '{:.2f}'.format(res.fun), fontsize=10)\n",
    "plt.xlabel('iteration times')\n",
    "plt.ylabel('negative log likelihood')\n",
    "plt.title('Negative Log Likelihood with Iteration Times')\n",
    "plt.legend()\n",
    "plt.show()"
   ]
  },
  {
   "cell_type": "code",
   "execution_count": 15,
   "metadata": {},
   "outputs": [
    {
     "name": "stdout",
     "output_type": "stream",
     "text": [
      "[[array(['Vhi_Ahi'], dtype='<U7') array(['Vmid_Ahi'], dtype='<U8')\n",
      "  array(['Vlo_Ahi'], dtype='<U7') array(['Vhi_Amid'], dtype='<U8')\n",
      "  array(['Vhi_Alo'], dtype='<U7')]]\n"
     ]
    }
   ],
   "source": [
    "print(data['AVFus']['synch']['snr'])\n"
   ]
  },
  {
   "cell_type": "markdown",
   "metadata": {},
   "source": [
    "#### Step 5(Extra) plot the distribution for all combinations"
   ]
  },
  {
   "cell_type": "markdown",
   "metadata": {},
   "source": [
    "Ref plot by Agata:\n",
    "<img src=\"./img/ref_plot.png\" width = \"800\"  alt=\"ref_plot\" align=center />"
   ]
  },
  {
   "cell_type": "markdown",
   "metadata": {},
   "source": [
    "wait a second here.   \n",
    "It seems that we are actually drawing different things.   \n",
    "Well the problem now is, what is the Agata's plot means.  \n",
    "Ah!"
   ]
  },
  {
   "cell_type": "code",
   "execution_count": 29,
   "metadata": {},
   "outputs": [
    {
     "name": "stdout",
     "output_type": "stream",
     "text": [
      "[1.41206786 1.26075735 0.83354414 1.00881871 1.15490953] [1.12005936 1.18842216 1.36305657 0.95252866 1.01641722]\n"
     ]
    }
   ],
   "source": [
    "# compute the mu and sigma for av\n",
    "mu_avs,sigma_avs = get_params_AV(mu_ab,mu_vg,sigma_vh,sigma_vm,sigma_vl,sigma_ah,sigma_am,sigma_al)\n",
    "print(mu_avs,sigma_avs)"
   ]
  },
  {
   "cell_type": "code",
   "execution_count": 35,
   "metadata": {},
   "outputs": [
    {
     "name": "stdout",
     "output_type": "stream",
     "text": [
      "[[array(['Vhi_Ahi'], dtype='<U7') array(['Vmid_Ahi'], dtype='<U8')\n",
      "  array(['Vlo_Ahi'], dtype='<U7') array(['Vhi_Amid'], dtype='<U8')\n",
      "  array(['Vhi_Alo'], dtype='<U7')]]\n"
     ]
    }
   ],
   "source": [
    "print(data['AVFus']['synch']['snr'])"
   ]
  },
  {
   "cell_type": "code",
   "execution_count": 36,
   "metadata": {},
   "outputs": [
    {
     "name": "stdout",
     "output_type": "stream",
     "text": [
      "(5, 200)\n"
     ]
    }
   ],
   "source": [
    "# generate stimulate data from mu and sigma\n",
    "sample_size = 200\n",
    "mu_abs = [mu_ab]*5\n",
    "sigma_abs = np.array([sigma_ah,sigma_ah,sigma_ah,sigma_am,sigma_al])\n",
    "audio_stimulateds = np.array([np.random.normal(mu_abs[i], sigma_abs[i], sample_size) for i in range(5)])\n",
    "print(audio_stimulateds.shape)\n",
    "\n",
    "\n",
    "mu_vgs = [mu_vg]*5\n",
    "sigma_vgs = np.array([sigma_vh,sigma_vm,sigma_vl,sigma_vh,sigma_vh])\n",
    "visual_stimulateds = np.array([np.random.normal(mu_vgs[i], sigma_vgs[i], sample_size) for i in range(5)])\n",
    "\n",
    "audiovisual_stimulateds = np.array([np.random.normal(mu_avs[i], sigma_avs[i], sample_size) for i in range(5)])\n"
   ]
  },
  {
   "cell_type": "code",
   "execution_count": 19,
   "metadata": {},
   "outputs": [
    {
     "data": {
      "image/png": "[encoded data removed]",
      "text/plain": [
       "<Figure size 864x864 with 5 Axes>"
      ]
     },
     "metadata": {
      "needs_background": "light"
     },
     "output_type": "display_data"
    }
   ],
   "source": [
    "# plot\n",
    "\n",
    "fig, axs = plt.subplots(5,1,figsize=(12,12))\n",
    "\n",
    "for i in range(5):\n",
    "    ax_c = axs[i]\n",
    "\n",
    "    audio_stimulated = list(audio_stimulateds[i])\n",
    "    visual_stimulated = list(visual_stimulateds[i])\n",
    "    av_stimulated = list(audiovisual_stimulateds[i])\n",
    "    \n",
    "    \n",
    "    min_ = min(min(audio_stimulated),min(visual_stimulated),min(av_stimulated))\n",
    "    max_ = max(max(audio_stimulated),max(visual_stimulated),max(av_stimulated))\n",
    "    bins = np.linspace(min_,max_,70)\n",
    "    x = np.linspace(min_,max_,1000)\n",
    "\n",
    "    ax_c.hist(audio_stimulated,bins= bins,color = 'lightcoral',alpha = 0.6,edgecolor='lightcoral',density = True,label='audio stimulated data')\n",
    "    ax_c.plot(x, norm(mu_abs[i],sigma_abs[i]).pdf(x),color = 'lightcoral',linewidth = 2.0,label='audio fitted guassian')\n",
    "\n",
    "    ax_c.hist(visual_stimulated,bins= bins,color = 'steelblue',alpha = 0.6,edgecolor='steelblue',density = True,label='visual stimulated data')\n",
    "    ax_c.plot(x, norm(mu_vgs[i],sigma_vgs[i]).pdf(x),color = 'steelblue',linewidth = 2.0,label='visual fitted guassian')\n",
    "\n",
    "    ax_c.hist(av_stimulated,bins= bins,color = 'olive',alpha = 0.6,edgecolor='steelblue',density = True,label='audiovisual stimulated data')\n",
    "    ax_c.plot(x, norm(mu_avs[i],sigma_avs[i]).pdf(x),color = 'olive',linewidth = 2.0,label='audiovisual fitted guassian')\n",
    "\n",
    "    ax_c.vlines(interval_gd,ymin=0,ymax =0.5,color='black')\n",
    "    ax_c.vlines(interval_db,ymin=0,ymax =0.5,color='red')\n",
    "\n",
    "plt.show()"
   ]
  },
  {
   "cell_type": "markdown",
   "metadata": {},
   "source": [
    "#### calculate the proportion of each part and compare it with collected data"
   ]
  },
  {
   "cell_type": "code",
   "execution_count": 38,
   "metadata": {},
   "outputs": [
    {
     "name": "stdout",
     "output_type": "stream",
     "text": [
      "[[0.11634014 0.66492091 0.21873896]\n",
      " [0.15929815 0.64576113 0.19494072]\n",
      " [0.28921155 0.56739874 0.14338971]\n",
      " [0.16341662 0.74553604 0.09104733]\n",
      " [0.1439882  0.72185796 0.13415384]]\n"
     ]
    }
   ],
   "source": [
    "# calculate the proportion of each part and compare it with collected data\n",
    "\n",
    "c = np.array([interval_gd,interval_db])\n",
    "propos = guassian2prob(mu_avs,sigma_avs,c)\n",
    "print(propos)"
   ]
  },
  {
   "cell_type": "code",
   "execution_count": 40,
   "metadata": {},
   "outputs": [
    {
     "data": {
      "text/plain": [
       "array([[0.16, 0.84, 0.  ],\n",
       "       [0.12, 0.76, 0.12],\n",
       "       [0.08, 0.56, 0.36],\n",
       "       [0.16, 0.8 , 0.04],\n",
       "       [0.16, 0.8 , 0.04]])"
      ]
     },
     "execution_count": 40,
     "metadata": {},
     "output_type": "execute_result"
    }
   ],
   "source": [
    "data['AVFus']['synch']['props'][tester_index,:,:]\n",
    "# data['AVFus']['synch']['props'].shape\n"
   ]
  },
  {
   "cell_type": "code",
   "execution_count": 22,
   "metadata": {},
   "outputs": [
    {
     "name": "stdout",
     "output_type": "stream",
     "text": [
      "[[0.06886086 0.38599857 0.54514057]\n",
      " [0.06886086 0.38599857 0.54514057]\n",
      " [0.06886086 0.38599857 0.54514057]\n",
      " [0.01963221 0.38303659 0.5973312 ]\n",
      " [0.03342145 0.3873508  0.57922775]]\n",
      "the rows are : snr high, high, high, mid, and low\n"
     ]
    }
   ],
   "source": [
    "# for audio B only\n",
    "propos = guassian2prob(mu_abs,sigma_abs,c)\n",
    "print(propos)\n",
    "print('the rows are : snr high, high, high, mid, and low')"
   ]
  },
  {
   "cell_type": "code",
   "execution_count": 23,
   "metadata": {},
   "outputs": [
    {
     "data": {
      "text/plain": [
       "array([[0.  , 0.56, 0.44],\n",
       "       [0.08, 0.36, 0.56],\n",
       "       [0.  , 0.32, 0.68]])"
      ]
     },
     "execution_count": 23,
     "metadata": {},
     "output_type": "execute_result"
    }
   ],
   "source": [
    "data['AB']['props'][tester_index,:,:]"
   ]
  },
  {
   "cell_type": "code",
   "execution_count": null,
   "metadata": {},
   "outputs": [],
   "source": []
  },
  {
   "cell_type": "markdown",
   "metadata": {},
   "source": [
    "#### get the fitted parameter with all tester -> re-plot figure 3 in Alma's article"
   ]
  },
  {
   "cell_type": "markdown",
   "metadata": {},
   "source": [
    "1. fitted all the testers' data "
   ]
  },
  {
   "cell_type": "code",
   "execution_count": 20,
   "metadata": {},
   "outputs": [
    {
     "name": "stderr",
     "output_type": "stream",
     "text": [
      "  6%|█████▏                                                                             | 1/16 [00:12<03:05, 12.35s/it]c:\\users\\12632\\appdata\\local\\programs\\python\\python37\\lib\\site-packages\\ipykernel_launcher.py:33: RuntimeWarning: invalid value encountered in log\n",
      " 19%|███████████████▌                                                                   | 3/16 [00:36<02:39, 12.29s/it]c:\\users\\12632\\appdata\\local\\programs\\python\\python37\\lib\\site-packages\\ipykernel_launcher.py:33: RuntimeWarning: divide by zero encountered in log\n",
      "c:\\users\\12632\\appdata\\local\\programs\\python\\python37\\lib\\site-packages\\ipykernel_launcher.py:34: RuntimeWarning: divide by zero encountered in log\n",
      "100%|██████████████████████████████████████████████████████████████████████████████████| 16/16 [03:50<00:00, 14.39s/it]\n"
     ]
    }
   ],
   "source": [
    "num_tester = 16\n",
    "num_params = 13\n",
    "\n",
    "params_stored = np.zeros((num_tester,num_params))\n",
    "\n",
    "for i in tqdm(range(num_tester)):\n",
    "    x0 = np.array(init_para)\n",
    "    res = minimize(neg_log_guassian, x0,args=(i),method='Nelder-Mead', tol=1e-6)\n",
    "    params_stored[i,:] = res.x"
   ]
  },
  {
   "cell_type": "markdown",
   "metadata": {},
   "source": [
    "2. store the fitted parameters"
   ]
  },
  {
   "cell_type": "code",
   "execution_count": 21,
   "metadata": {},
   "outputs": [],
   "source": [
    "# store it first\n",
    "fitted_param_path = '../S2_data/fitted_params.npy'\n",
    "np.save(fitted_param_path, params_stored) "
   ]
  },
  {
   "cell_type": "code",
   "execution_count": 22,
   "metadata": {},
   "outputs": [
    {
     "name": "stdout",
     "output_type": "stream",
     "text": [
      "(16, 13)\n"
     ]
    }
   ],
   "source": [
    "data= np.load(fitted_param_path)\n",
    "print(data.shape)"
   ]
  },
  {
   "cell_type": "markdown",
   "metadata": {},
   "source": [
    "3. get the props for different snrs \n",
    "    - AB,AG,VB,VG  \n",
    "    - AVB,AVG,AVFus\n",
    "    - param = [sigma_0,mu_vg, mu_vb, mu_ag, mu_ab,sigma_vh, sigma_vm, sigma_vl, sigma_ah, sigma_am, sigma_al,interval_gd,interval_db]"
   ]
  },
  {
   "cell_type": "code",
   "execution_count": 46,
   "metadata": {},
   "outputs": [
    {
     "name": "stderr",
     "output_type": "stream",
     "text": [
      "c:\\users\\12632\\appdata\\local\\programs\\python\\python37\\lib\\site-packages\\ipykernel_launcher.py:32: RuntimeWarning: divide by zero encountered in log\n",
      "c:\\users\\12632\\appdata\\local\\programs\\python\\python37\\lib\\site-packages\\ipykernel_launcher.py:32: RuntimeWarning: invalid value encountered in subtract\n",
      "c:\\users\\12632\\appdata\\local\\programs\\python\\python37\\lib\\site-packages\\ipykernel_launcher.py:33: RuntimeWarning: divide by zero encountered in log\n",
      "c:\\users\\12632\\appdata\\local\\programs\\python\\python37\\lib\\site-packages\\ipykernel_launcher.py:33: RuntimeWarning: invalid value encountered in subtract\n",
      "c:\\users\\12632\\appdata\\local\\programs\\python\\python37\\lib\\site-packages\\ipykernel_launcher.py:34: RuntimeWarning: divide by zero encountered in log\n",
      "c:\\users\\12632\\appdata\\local\\programs\\python\\python37\\lib\\site-packages\\ipykernel_launcher.py:34: RuntimeWarning: invalid value encountered in subtract\n"
     ]
    }
   ],
   "source": [
    "props_with_fitted_data = {}\n",
    "keys = ['AB','AG','VB','VG','AVB','AVG','AVFus']\n",
    "mu_index = {'AB':4,'AG':3,'VB':2,'VG':1}\n",
    "\n",
    "for key in keys:\n",
    "    if len(key)==2:\n",
    "        props_with_fitted_data[key] = np.zeros((num_tester,3,3))\n",
    "    else:\n",
    "        props_with_fitted_data[key] = np.zeros((num_tester,5,3))\n",
    "    for i in range(num_tester):\n",
    "        [sigma_0,mu_vg, mu_vb, mu_ag, mu_ab,sigma_vh, sigma_vm, sigma_vl, sigma_ah, sigma_am, sigma_al,interval_gd,interval_db] = params_stored[i,:]\n",
    "        \n",
    "        if len(key)==2:\n",
    "            mu = params_stored[i,mu_index[key]]\n",
    "            mus = np.array([mu]*3)\n",
    "            if key[0] == 'A':\n",
    "                sigmas = np.array(params_stored[i,8:11])\n",
    "        else:\n",
    "            # for AVB AVG AVFus\n",
    "            if key[2] == 'B':\n",
    "                mus,sigmas = get_params_AV(mu_ab,mu_vb,sigma_vh,sigma_vm,sigma_vl,sigma_ah,sigma_am,sigma_al)\n",
    "            elif key[2] == 'G':\n",
    "                mus,sigmas = get_params_AV(mu_ag,mu_vg,sigma_vh,sigma_vm,sigma_vl,sigma_ah,sigma_am,sigma_al)\n",
    "            else:\n",
    "                mus,sigmas = get_params_AV(mu_ab,mu_vg,sigma_vh,sigma_vm,sigma_vl,sigma_ah,sigma_am,sigma_al)\n",
    "        \n",
    "        c = params_stored[i,-2:]\n",
    "        props = guassian2prob(mus,sigmas,c)\n",
    "#         print(props_with_fitted_data)\n",
    "        props_with_fitted_data[key][i,:,:] = props"
   ]
  },
  {
   "cell_type": "markdown",
   "metadata": {},
   "source": [
    "4. make the plot and compare it with the raw data from cognitive experiment"
   ]
  },
  {
   "cell_type": "code",
   "execution_count": 50,
   "metadata": {},
   "outputs": [
    {
     "data": {
      "text/plain": [
       "array([[array(['hi'], dtype='<U2'), array(['mid'], dtype='<U3'),\n",
       "        array(['lo'], dtype='<U2')]], dtype=object)"
      ]
     },
     "execution_count": 50,
     "metadata": {},
     "output_type": "execute_result"
    }
   ],
   "source": [
    "data['AB']['snr']"
   ]
  },
  {
   "cell_type": "code",
   "execution_count": 71,
   "metadata": {},
   "outputs": [
    {
     "data": {
      "image/png": "[encoded data removed]",
      "text/plain": [
       "<Figure size 360x864 with 3 Axes>"
      ]
     },
     "metadata": {
      "needs_background": "light"
     },
     "output_type": "display_data"
    }
   ],
   "source": [
    "# try out with AB\n",
    "fig,ax= plt.subplots(3,1,figsize=(5,12))\n",
    "\n",
    "labels = ['G', 'D', 'B']\n",
    "props_raw = np.mean(data['VB']['props'],axis = 0)\n",
    "props_fitted = np.mean(props_with_fitted_data['VB'],axis=0)\n",
    "err_raw = np.std(data['VB']['props'],axis = 0)\n",
    "err_fitted = np.std(props_with_fitted_data['VB'],axis = 0)\n",
    "\n",
    "x = np.arange(len(labels))  # the label locations\n",
    "width = 0.35  # the width of the bars\n",
    "\n",
    "for i in range(3):\n",
    "    rects1 = ax[i].bar(x - width/2, props_raw[i], yerr = err_raw[i],width=width, label='observation',capsize=5)\n",
    "    rects2 = ax[i].bar(x + width/2, props_fitted[i],yerr = err_fitted[i], width=width, label='prediction',capsize=5)\n",
    "    ax[i].set_xticks(x)\n",
    "    ax[i].set_xticklabels(labels)\n",
    "    ax[i].legend()\n",
    "#     ax[i].bar_label(rects1, padding=3)\n",
    "#     ax[i].bar_label(rects2, padding=3)"
   ]
  },
  {
   "cell_type": "code",
   "execution_count": 51,
   "metadata": {},
   "outputs": [],
   "source": [
    "props_raw = np.mean(data['AB']['props'],axis = 0)"
   ]
  },
  {
   "cell_type": "code",
   "execution_count": 52,
   "metadata": {},
   "outputs": [
    {
     "data": {
      "text/plain": [
       "array([[0.175 , 0.155 , 0.67  ],\n",
       "       [0.1975, 0.1825, 0.62  ],\n",
       "       [0.21  , 0.19  , 0.6   ]])"
      ]
     },
     "execution_count": 52,
     "metadata": {},
     "output_type": "execute_result"
    }
   ],
   "source": [
    "props_raw"
   ]
  },
  {
   "cell_type": "code",
   "execution_count": null,
   "metadata": {},
   "outputs": [],
   "source": []
  }
 ],
 "metadata": {
  "kernelspec": {
   "display_name": "Python 3",
   "language": "python",
   "name": "python3"
  },
  "language_info": {
   "codemirror_mode": {
    "name": "ipython",
    "version": 3
   },
   "file_extension": ".py",
   "mimetype": "text/x-python",
   "name": "python",
   "nbconvert_exporter": "python",
   "pygments_lexer": "ipython3",
   "version": "3.7.3"
  }
 },
 "nbformat": 4,
 "nbformat_minor": 4
}
