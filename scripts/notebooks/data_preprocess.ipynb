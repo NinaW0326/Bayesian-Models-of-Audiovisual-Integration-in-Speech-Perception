{
 "cells": [
  {
   "cell_type": "markdown",
   "metadata": {},
   "source": [
    "### Get data from .mat format to dict \n",
    "and save as python-friendly format\n",
    "\n",
    "nina 2020.3.4"
   ]
  },
  {
   "cell_type": "code",
   "execution_count": 1,
   "metadata": {},
   "outputs": [],
   "source": [
    "import scipy.io\n",
    "matfile_path = '../S2_data/data.mat'\n",
    "mat = scipy.io.loadmat(matfile_path)"
   ]
  },
  {
   "cell_type": "code",
   "execution_count": 2,
   "metadata": {},
   "outputs": [],
   "source": [
    "mdata = mat['data']"
   ]
  },
  {
   "cell_type": "code",
   "execution_count": 3,
   "metadata": {},
   "outputs": [
    {
     "data": {
      "text/plain": [
       "('AB',\n",
       " 'AG',\n",
       " 'VB',\n",
       " 'VG',\n",
       " 'AVB',\n",
       " 'AVG',\n",
       " 'AVFus',\n",
       " 'dim_order',\n",
       " 'response_order',\n",
       " 'nsubjects')"
      ]
     },
     "execution_count": 3,
     "metadata": {},
     "output_type": "execute_result"
    }
   ],
   "source": [
    "mdata.dtype.names\n",
    "# mdata['AB']"
   ]
  },
  {
   "cell_type": "code",
   "execution_count": 4,
   "metadata": {},
   "outputs": [
    {
     "name": "stdout",
     "output_type": "stream",
     "text": [
      "(1, 1)\n",
      "(16, 3, 3)\n"
     ]
    }
   ],
   "source": [
    "print(mdata['AB'][0,0].shape)\n",
    "print(mdata['AB'][0,0]['counts'][0,0].shape)"
   ]
  },
  {
   "cell_type": "code",
   "execution_count": 5,
   "metadata": {},
   "outputs": [
    {
     "name": "stdout",
     "output_type": "stream",
     "text": [
      "processing AB\n",
      "processing counts\n",
      "processing props\n",
      "processing snr\n",
      "processing AG\n",
      "processing counts\n",
      "processing props\n",
      "processing snr\n",
      "processing VB\n",
      "processing counts\n",
      "processing props\n",
      "processing snr\n",
      "processing VG\n",
      "processing counts\n",
      "processing props\n",
      "processing snr\n",
      "processing AVB\n",
      "processing synch\n",
      "processing asynch\n",
      "processing AVG\n",
      "processing synch\n",
      "processing asynch\n",
      "processing AVFus\n",
      "processing synch\n",
      "processing asynch\n",
      "processing dim_order\n",
      "processing response_order\n",
      "processing nsubjects\n",
      "pre-processing done\n"
     ]
    }
   ],
   "source": [
    "ndata = {n: mdata[n][0,0] for n in mdata.dtype.names}\n",
    "dict_data = {}\n",
    "for each in ndata:\n",
    "    print('processing {}'.format(each))\n",
    "    each_d = ndata[each]\n",
    "    if len(each_d.dtype) == 0:\n",
    "        dict_data[each] = each_d\n",
    "        continue\n",
    "    each_d_n = {n: each_d[n][0,0] for n in each_d.dtype.names}\n",
    "    \n",
    "    dict_tmp={}\n",
    "    for each_2 in each_d_n:\n",
    "        print('processing {}'.format(each_2))\n",
    "        each_dd = each_d_n[each_2]\n",
    "        if len(each_dd.dtype) == 0:\n",
    "            dict_tmp[each_2] = each_dd\n",
    "            continue\n",
    "        \n",
    "        each_d_nn = {n: each_dd[n][0,0] for n in each_dd.dtype.names}\n",
    "        dict_tmp[each_2] = each_d_nn\n",
    "    \n",
    "    dict_data[each] = dict_tmp\n",
    "\n",
    "    \n",
    "print('pre-processing done')"
   ]
  },
  {
   "cell_type": "code",
   "execution_count": 6,
   "metadata": {},
   "outputs": [
    {
     "data": {
      "text/plain": [
       "dict_keys(['AB', 'AG', 'VB', 'VG', 'AVB', 'AVG', 'AVFus', 'dim_order', 'response_order', 'nsubjects'])"
      ]
     },
     "execution_count": 6,
     "metadata": {},
     "output_type": "execute_result"
    }
   ],
   "source": [
    "dict_data.keys()"
   ]
  },
  {
   "cell_type": "code",
   "execution_count": 7,
   "metadata": {},
   "outputs": [
    {
     "data": {
      "text/plain": [
       "dict_keys(['synch', 'asynch'])"
      ]
     },
     "execution_count": 7,
     "metadata": {},
     "output_type": "execute_result"
    }
   ],
   "source": [
    "dict_data['AVG'].keys()"
   ]
  },
  {
   "cell_type": "code",
   "execution_count": 12,
   "metadata": {},
   "outputs": [
    {
     "data": {
      "text/plain": [
       "dict_keys(['counts', 'snr'])"
      ]
     },
     "execution_count": 12,
     "metadata": {},
     "output_type": "execute_result"
    }
   ],
   "source": [
    "dict_data['AVB']['synch'].keys()"
   ]
  },
  {
   "cell_type": "markdown",
   "metadata": {},
   "source": [
    "##### problem: 'AVB' do not have 'props'"
   ]
  },
  {
   "cell_type": "code",
   "execution_count": 16,
   "metadata": {},
   "outputs": [],
   "source": [
    "dict_data['AVB']['synch']['props'] = dict_data['AVB']['synch']['counts']/25"
   ]
  },
  {
   "cell_type": "code",
   "execution_count": 17,
   "metadata": {},
   "outputs": [
    {
     "data": {
      "text/plain": [
       "dict_keys(['counts', 'snr', 'props'])"
      ]
     },
     "execution_count": 17,
     "metadata": {},
     "output_type": "execute_result"
    }
   ],
   "source": [
    "dict_data['AVB']['synch'].keys()"
   ]
  },
  {
   "cell_type": "code",
   "execution_count": 18,
   "metadata": {},
   "outputs": [
    {
     "data": {
      "text/plain": [
       "array([[[0.  , 0.  , 1.  ],\n",
       "        [0.04, 0.  , 0.96],\n",
       "        [0.  , 0.  , 1.  ],\n",
       "        [0.04, 0.08, 0.88],\n",
       "        [0.  , 0.  , 1.  ]],\n",
       "\n",
       "       [[0.16, 0.  , 0.84],\n",
       "        [0.44, 0.  , 0.56],\n",
       "        [0.32, 0.  , 0.68],\n",
       "        [0.08, 0.  , 0.92],\n",
       "        [0.08, 0.  , 0.92]],\n",
       "\n",
       "       [[0.08, 0.  , 0.92],\n",
       "        [0.16, 0.  , 0.84],\n",
       "        [0.4 , 0.04, 0.56],\n",
       "        [0.08, 0.08, 0.84],\n",
       "        [0.16, 0.08, 0.76]],\n",
       "\n",
       "       [[0.  , 0.  , 1.  ],\n",
       "        [0.16, 0.  , 0.84],\n",
       "        [0.12, 0.  , 0.88],\n",
       "        [0.04, 0.  , 0.96],\n",
       "        [0.  , 0.  , 1.  ]],\n",
       "\n",
       "       [[0.  , 0.  , 1.  ],\n",
       "        [0.08, 0.04, 0.88],\n",
       "        [0.36, 0.24, 0.4 ],\n",
       "        [0.04, 0.  , 0.96],\n",
       "        [0.  , 0.  , 1.  ]],\n",
       "\n",
       "       [[0.  , 0.  , 1.  ],\n",
       "        [0.  , 0.  , 1.  ],\n",
       "        [0.  , 0.  , 1.  ],\n",
       "        [0.  , 0.  , 1.  ],\n",
       "        [0.  , 0.  , 1.  ]],\n",
       "\n",
       "       [[0.  , 0.  , 1.  ],\n",
       "        [0.08, 0.  , 0.92],\n",
       "        [0.2 , 0.  , 0.8 ],\n",
       "        [0.  , 0.  , 1.  ],\n",
       "        [0.  , 0.  , 1.  ]],\n",
       "\n",
       "       [[0.  , 0.  , 1.  ],\n",
       "        [0.04, 0.04, 0.92],\n",
       "        [0.  , 0.04, 0.96],\n",
       "        [0.  , 0.04, 0.96],\n",
       "        [0.04, 0.  , 0.96]],\n",
       "\n",
       "       [[0.  , 0.04, 0.96],\n",
       "        [0.08, 0.08, 0.84],\n",
       "        [0.24, 0.36, 0.4 ],\n",
       "        [0.  , 0.04, 0.96],\n",
       "        [0.  , 0.08, 0.92]],\n",
       "\n",
       "       [[0.  , 0.04, 0.96],\n",
       "        [0.08, 0.56, 0.36],\n",
       "        [0.32, 0.32, 0.36],\n",
       "        [0.  , 0.04, 0.96],\n",
       "        [0.  , 0.08, 0.92]],\n",
       "\n",
       "       [[0.  , 0.  , 1.  ],\n",
       "        [0.04, 0.  , 0.96],\n",
       "        [0.12, 0.  , 0.88],\n",
       "        [0.  , 0.  , 1.  ],\n",
       "        [0.  , 0.  , 1.  ]],\n",
       "\n",
       "       [[0.  , 0.  , 1.  ],\n",
       "        [0.  , 0.  , 1.  ],\n",
       "        [0.08, 0.32, 0.6 ],\n",
       "        [0.  , 0.04, 0.96],\n",
       "        [0.  , 0.  , 1.  ]],\n",
       "\n",
       "       [[0.  , 0.  , 1.  ],\n",
       "        [0.  , 0.  , 1.  ],\n",
       "        [0.12, 0.  , 0.88],\n",
       "        [0.  , 0.  , 1.  ],\n",
       "        [0.  , 0.  , 1.  ]],\n",
       "\n",
       "       [[0.  , 0.  , 1.  ],\n",
       "        [0.  , 0.12, 0.88],\n",
       "        [0.08, 0.08, 0.84],\n",
       "        [0.  , 0.  , 1.  ],\n",
       "        [0.  , 0.  , 1.  ]],\n",
       "\n",
       "       [[0.  , 0.  , 1.  ],\n",
       "        [0.  , 0.  , 1.  ],\n",
       "        [0.04, 0.08, 0.88],\n",
       "        [0.  , 0.  , 1.  ],\n",
       "        [0.  , 0.04, 0.96]],\n",
       "\n",
       "       [[0.  , 0.  , 1.  ],\n",
       "        [0.04, 0.04, 0.92],\n",
       "        [0.  , 0.32, 0.68],\n",
       "        [0.  , 0.  , 1.  ],\n",
       "        [0.  , 0.  , 1.  ]]])"
      ]
     },
     "execution_count": 18,
     "metadata": {},
     "output_type": "execute_result"
    }
   ],
   "source": [
    "dict_data['AVB']['synch']['props'] "
   ]
  },
  {
   "cell_type": "code",
   "execution_count": null,
   "metadata": {},
   "outputs": [],
   "source": []
  },
  {
   "cell_type": "code",
   "execution_count": 19,
   "metadata": {},
   "outputs": [
    {
     "data": {
      "text/plain": [
       "array([[[0.24, 0.  , 0.76],\n",
       "        [0.28, 0.  , 0.72],\n",
       "        [0.16, 0.  , 0.84],\n",
       "        [0.16, 0.08, 0.76],\n",
       "        [0.2 , 0.12, 0.68]],\n",
       "\n",
       "       [[0.56, 0.  , 0.44],\n",
       "        [0.56, 0.04, 0.4 ],\n",
       "        [0.52, 0.  , 0.48],\n",
       "        [0.52, 0.04, 0.44],\n",
       "        [0.76, 0.  , 0.24]],\n",
       "\n",
       "       [[0.28, 0.16, 0.56],\n",
       "        [0.28, 0.16, 0.56],\n",
       "        [0.52, 0.04, 0.44],\n",
       "        [0.2 , 0.4 , 0.4 ],\n",
       "        [0.32, 0.56, 0.12]],\n",
       "\n",
       "       [[0.6 , 0.  , 0.4 ],\n",
       "        [0.52, 0.  , 0.48],\n",
       "        [0.32, 0.  , 0.68],\n",
       "        [0.88, 0.  , 0.12],\n",
       "        [0.96, 0.  , 0.04]],\n",
       "\n",
       "       [[0.32, 0.64, 0.04],\n",
       "        [0.4 , 0.36, 0.24],\n",
       "        [0.28, 0.28, 0.44],\n",
       "        [0.12, 0.76, 0.12],\n",
       "        [0.24, 0.76, 0.  ]],\n",
       "\n",
       "       [[0.  , 0.  , 1.  ],\n",
       "        [0.08, 0.  , 0.92],\n",
       "        [0.  , 0.  , 1.  ],\n",
       "        [0.08, 0.  , 0.92],\n",
       "        [0.28, 0.  , 0.72]],\n",
       "\n",
       "       [[0.32, 0.04, 0.64],\n",
       "        [0.24, 0.  , 0.76],\n",
       "        [0.16, 0.  , 0.84],\n",
       "        [0.36, 0.12, 0.52],\n",
       "        [0.64, 0.08, 0.28]],\n",
       "\n",
       "       [[0.04, 0.4 , 0.56],\n",
       "        [0.08, 0.16, 0.76],\n",
       "        [0.12, 0.12, 0.76],\n",
       "        [0.2 , 0.28, 0.52],\n",
       "        [0.6 , 0.2 , 0.2 ]],\n",
       "\n",
       "       [[0.32, 0.6 , 0.08],\n",
       "        [0.12, 0.72, 0.16],\n",
       "        [0.16, 0.64, 0.2 ],\n",
       "        [0.04, 0.84, 0.12],\n",
       "        [0.28, 0.72, 0.  ]],\n",
       "\n",
       "       [[0.16, 0.44, 0.4 ],\n",
       "        [0.36, 0.28, 0.36],\n",
       "        [0.28, 0.32, 0.4 ],\n",
       "        [0.24, 0.44, 0.32],\n",
       "        [0.16, 0.52, 0.32]],\n",
       "\n",
       "       [[0.64, 0.  , 0.36],\n",
       "        [0.48, 0.  , 0.52],\n",
       "        [0.16, 0.  , 0.84],\n",
       "        [0.72, 0.  , 0.28],\n",
       "        [0.8 , 0.  , 0.2 ]],\n",
       "\n",
       "       [[0.12, 0.84, 0.04],\n",
       "        [0.  , 0.76, 0.24],\n",
       "        [0.04, 0.32, 0.64],\n",
       "        [0.08, 0.92, 0.  ],\n",
       "        [0.12, 0.84, 0.04]],\n",
       "\n",
       "       [[0.12, 0.04, 0.84],\n",
       "        [0.16, 0.04, 0.8 ],\n",
       "        [0.2 , 0.04, 0.76],\n",
       "        [0.28, 0.  , 0.72],\n",
       "        [0.48, 0.04, 0.48]],\n",
       "\n",
       "       [[0.12, 0.52, 0.36],\n",
       "        [0.08, 0.32, 0.6 ],\n",
       "        [0.08, 0.16, 0.76],\n",
       "        [0.04, 0.88, 0.08],\n",
       "        [0.24, 0.72, 0.04]],\n",
       "\n",
       "       [[0.  , 0.68, 0.32],\n",
       "        [0.08, 0.24, 0.68],\n",
       "        [0.04, 0.08, 0.88],\n",
       "        [0.12, 0.68, 0.2 ],\n",
       "        [0.32, 0.68, 0.  ]],\n",
       "\n",
       "       [[0.04, 0.8 , 0.16],\n",
       "        [0.08, 0.48, 0.44],\n",
       "        [0.04, 0.52, 0.44],\n",
       "        [0.08, 0.8 , 0.12],\n",
       "        [0.2 , 0.72, 0.08]]])"
      ]
     },
     "execution_count": 19,
     "metadata": {},
     "output_type": "execute_result"
    }
   ],
   "source": [
    "dict_data['AVFus']['asynch']['props']"
   ]
  },
  {
   "cell_type": "markdown",
   "metadata": {},
   "source": [
    "##### Store the data into python-friendly format"
   ]
  },
  {
   "cell_type": "markdown",
   "metadata": {},
   "source": [
    "1. store the dict data into pickle format."
   ]
  },
  {
   "cell_type": "code",
   "execution_count": 20,
   "metadata": {},
   "outputs": [],
   "source": [
    "import pickle\n",
    "\n",
    "pkl_path = '../S2_data/data.pkl'\n",
    "with open(pkl_path, 'wb') as f:\n",
    "    pickle.dump(dict_data, f, pickle.HIGHEST_PROTOCOL)\n"
   ]
  },
  {
   "cell_type": "markdown",
   "metadata": {},
   "source": [
    "try to read this file again:"
   ]
  },
  {
   "cell_type": "code",
   "execution_count": 21,
   "metadata": {},
   "outputs": [],
   "source": [
    "with open(pkl_path, 'rb') as f:\n",
    "    data_newv = pickle.load(f)"
   ]
  },
  {
   "cell_type": "code",
   "execution_count": 22,
   "metadata": {},
   "outputs": [
    {
     "data": {
      "text/plain": [
       "dict_keys(['AB', 'AG', 'VB', 'VG', 'AVB', 'AVG', 'AVFus', 'dim_order', 'response_order', 'nsubjects'])"
      ]
     },
     "execution_count": 22,
     "metadata": {},
     "output_type": "execute_result"
    }
   ],
   "source": [
    "data_newv.keys()"
   ]
  },
  {
   "cell_type": "markdown",
   "metadata": {},
   "source": [
    "2. store it into npy format"
   ]
  },
  {
   "cell_type": "code",
   "execution_count": 23,
   "metadata": {},
   "outputs": [],
   "source": [
    "import numpy as np\n",
    "npy_filepath  = '../S2_data/data.npy'\n",
    "np.save(npy_filepath, dict_data) "
   ]
  },
  {
   "cell_type": "code",
   "execution_count": 24,
   "metadata": {},
   "outputs": [],
   "source": [
    "# fix the 'Object arrays cannot be loaded when allow_pickle=False' problem\n",
    "# https://stackoverflow.com/questions/55890813/how-to-fix-object-arrays-cannot-be-loaded-when-allow-pickle-false-for-imdb-loa/56062555\n",
    "# save np.load\n",
    "np_load_old = np.load\n",
    "\n",
    "# modify the default parameters of np.load\n",
    "np.load = lambda *a,**k: np_load_old(*a, allow_pickle=True, **k)\n",
    "\n",
    "# # call load_data with allow_pickle implicitly set to true\n",
    "read_dict = np.load(npy_filepath).item()\n",
    "\n",
    "# restore np.load for future normal usage\n",
    "np.load = np_load_old"
   ]
  },
  {
   "cell_type": "code",
   "execution_count": 25,
   "metadata": {},
   "outputs": [
    {
     "data": {
      "text/plain": [
       "dict_keys(['AB', 'AG', 'VB', 'VG', 'AVB', 'AVG', 'AVFus', 'dim_order', 'response_order', 'nsubjects'])"
      ]
     },
     "execution_count": 25,
     "metadata": {},
     "output_type": "execute_result"
    }
   ],
   "source": [
    "read_dict.keys()"
   ]
  },
  {
   "cell_type": "code",
   "execution_count": null,
   "metadata": {},
   "outputs": [],
   "source": []
  },
  {
   "cell_type": "code",
   "execution_count": null,
   "metadata": {},
   "outputs": [],
   "source": []
  },
  {
   "cell_type": "code",
   "execution_count": null,
   "metadata": {},
   "outputs": [],
   "source": []
  },
  {
   "cell_type": "code",
   "execution_count": null,
   "metadata": {},
   "outputs": [],
   "source": []
  },
  {
   "cell_type": "markdown",
   "metadata": {},
   "source": [
    "#### problems that remains\n",
    "- AVB do not has 'props'"
   ]
  },
  {
   "cell_type": "code",
   "execution_count": null,
   "metadata": {},
   "outputs": [],
   "source": []
  }
 ],
 "metadata": {
  "kernelspec": {
   "display_name": "Python 3",
   "language": "python",
   "name": "python3"
  },
  "language_info": {
   "codemirror_mode": {
    "name": "ipython",
    "version": 3
   },
   "file_extension": ".py",
   "mimetype": "text/x-python",
   "name": "python",
   "nbconvert_exporter": "python",
   "pygments_lexer": "ipython3",
   "version": "3.7.3"
  }
 },
 "nbformat": 4,
 "nbformat_minor": 4
}
